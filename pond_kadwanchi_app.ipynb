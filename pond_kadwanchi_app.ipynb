{
 "cells": [
  {
   "attachments": {},
   "cell_type": "markdown",
   "metadata": {},
   "source": [
    "# Farm ponds recognition model training\n",
    "This is a notebook to train a MaskRCNN model to recognize farm ponds in satellite images. The code is based on Detectron2 documentation. You can find more details of the pre-train models from [Meta Research's Github repository](https://github.com/facebookresearch/detectron2)"
   ]
  },
  {
   "cell_type": "code",
   "execution_count": 1,
   "metadata": {
    "colab": {
     "base_uri": "https://localhost:8080/"
    },
    "executionInfo": {
     "elapsed": 658,
     "status": "ok",
     "timestamp": 1688167702071,
     "user": {
      "displayName": "Ping-Chun Lin",
      "userId": "07833352389779309997"
     },
     "user_tz": 420
    },
    "id": "0d288Z2mF5dC",
    "outputId": "1a93db01-087a-4256-ae2b-c961354fb4d2"
   },
   "outputs": [
    {
     "name": "stdout",
     "output_type": "stream",
     "text": [
      "torch:  2.0 ; cuda:  cu117\n",
      "detectron2: 0.6\n"
     ]
    }
   ],
   "source": [
    "import torch, detectron2\n",
    "\n",
    "# Setup detectron2 logger\n",
    "from detectron2.utils.logger import setup_logger\n",
    "setup_logger()\n",
    "\n",
    "import numpy as np\n",
    "import os, json, cv2, random\n",
    "import matplotlib.pyplot as plt\n",
    "from detectron2 import model_zoo\n",
    "from detectron2.engine import DefaultPredictor\n",
    "from detectron2.config import get_cfg\n",
    "from detectron2.utils.visualizer import Visualizer\n",
    "from detectron2.data import MetadataCatalog, DatasetCatalog\n",
    "\n",
    "TORCH_VERSION = \".\".join(torch.__version__.split(\".\")[:2])\n",
    "CUDA_VERSION = torch.__version__.split(\"+\")[-1]\n",
    "print(\"torch: \", TORCH_VERSION, \"; cuda: \", CUDA_VERSION)\n",
    "print(\"detectron2:\", detectron2.__version__)"
   ]
  },
  {
   "attachments": {},
   "cell_type": "markdown",
   "metadata": {},
   "source": [
    "## Test on Kadwanchi Data\n",
    "\n",
    "This is a test on of the trained model from Kadwanchi. To use a pre-trained model, you will need the config file of a pretrained model(yaml) and the model weights (pth). The pre-trained model needs pred_mask to color the area of the farm ponds. You can swap the test folder path to other image sets to test and visualize the prediction results."
   ]
  },
  {
   "cell_type": "code",
   "execution_count": 3,
   "metadata": {},
   "outputs": [
    {
     "name": "stdout",
     "output_type": "stream",
     "text": [
      "\u001b[32m[02/26 22:54:10 d2.checkpoint.detection_checkpoint]: \u001b[0m[DetectionCheckpointer] Loading from detectron2://ImageNetPretrained/FAIR/X-101-32x8d.pkl ...\n"
     ]
    },
    {
     "name": "stderr",
     "output_type": "stream",
     "text": [
      "X-101-32x8d.pkl: 356MB [00:03, 107MB/s]                               \n"
     ]
    },
    {
     "name": "stdout",
     "output_type": "stream",
     "text": [
      "\u001b[32m[02/26 22:54:13 d2.checkpoint.c2_model_loading]: \u001b[0mRenaming Caffe2 weights ......\n",
      "\u001b[32m[02/26 22:54:14 d2.checkpoint.c2_model_loading]: \u001b[0mFollowing weights matched with submodule backbone.bottom_up:\n",
      "| Names in Model    | Names in Checkpoint                         | Shapes                                          |\n",
      "|:------------------|:--------------------------------------------|:------------------------------------------------|\n",
      "| res2.0.conv1.*    | res2_0_branch2a_{bn_b,bn_rm,bn_riv,bn_s,w}  | (256,) (256,) (256,) (256,) (256,64,1,1)        |\n",
      "| res2.0.conv2.*    | res2_0_branch2b_{bn_b,bn_rm,bn_riv,bn_s,w}  | (256,) (256,) (256,) (256,) (256,8,3,3)         |\n",
      "| res2.0.conv3.*    | res2_0_branch2c_{bn_b,bn_rm,bn_riv,bn_s,w}  | (256,) (256,) (256,) (256,) (256,256,1,1)       |\n",
      "| res2.0.shortcut.* | res2_0_branch1_{bn_b,bn_rm,bn_riv,bn_s,w}   | (256,) (256,) (256,) (256,) (256,64,1,1)        |\n",
      "| res2.1.conv1.*    | res2_1_branch2a_{bn_b,bn_rm,bn_riv,bn_s,w}  | (256,) (256,) (256,) (256,) (256,256,1,1)       |\n",
      "| res2.1.conv2.*    | res2_1_branch2b_{bn_b,bn_rm,bn_riv,bn_s,w}  | (256,) (256,) (256,) (256,) (256,8,3,3)         |\n",
      "| res2.1.conv3.*    | res2_1_branch2c_{bn_b,bn_rm,bn_riv,bn_s,w}  | (256,) (256,) (256,) (256,) (256,256,1,1)       |\n",
      "| res2.2.conv1.*    | res2_2_branch2a_{bn_b,bn_rm,bn_riv,bn_s,w}  | (256,) (256,) (256,) (256,) (256,256,1,1)       |\n",
      "| res2.2.conv2.*    | res2_2_branch2b_{bn_b,bn_rm,bn_riv,bn_s,w}  | (256,) (256,) (256,) (256,) (256,8,3,3)         |\n",
      "| res2.2.conv3.*    | res2_2_branch2c_{bn_b,bn_rm,bn_riv,bn_s,w}  | (256,) (256,) (256,) (256,) (256,256,1,1)       |\n",
      "| res3.0.conv1.*    | res3_0_branch2a_{bn_b,bn_rm,bn_riv,bn_s,w}  | (512,) (512,) (512,) (512,) (512,256,1,1)       |\n",
      "| res3.0.conv2.*    | res3_0_branch2b_{bn_b,bn_rm,bn_riv,bn_s,w}  | (512,) (512,) (512,) (512,) (512,16,3,3)        |\n",
      "| res3.0.conv3.*    | res3_0_branch2c_{bn_b,bn_rm,bn_riv,bn_s,w}  | (512,) (512,) (512,) (512,) (512,512,1,1)       |\n",
      "| res3.0.shortcut.* | res3_0_branch1_{bn_b,bn_rm,bn_riv,bn_s,w}   | (512,) (512,) (512,) (512,) (512,256,1,1)       |\n",
      "| res3.1.conv1.*    | res3_1_branch2a_{bn_b,bn_rm,bn_riv,bn_s,w}  | (512,) (512,) (512,) (512,) (512,512,1,1)       |\n",
      "| res3.1.conv2.*    | res3_1_branch2b_{bn_b,bn_rm,bn_riv,bn_s,w}  | (512,) (512,) (512,) (512,) (512,16,3,3)        |\n",
      "| res3.1.conv3.*    | res3_1_branch2c_{bn_b,bn_rm,bn_riv,bn_s,w}  | (512,) (512,) (512,) (512,) (512,512,1,1)       |\n",
      "| res3.2.conv1.*    | res3_2_branch2a_{bn_b,bn_rm,bn_riv,bn_s,w}  | (512,) (512,) (512,) (512,) (512,512,1,1)       |\n",
      "| res3.2.conv2.*    | res3_2_branch2b_{bn_b,bn_rm,bn_riv,bn_s,w}  | (512,) (512,) (512,) (512,) (512,16,3,3)        |\n",
      "| res3.2.conv3.*    | res3_2_branch2c_{bn_b,bn_rm,bn_riv,bn_s,w}  | (512,) (512,) (512,) (512,) (512,512,1,1)       |\n",
      "| res3.3.conv1.*    | res3_3_branch2a_{bn_b,bn_rm,bn_riv,bn_s,w}  | (512,) (512,) (512,) (512,) (512,512,1,1)       |\n",
      "| res3.3.conv2.*    | res3_3_branch2b_{bn_b,bn_rm,bn_riv,bn_s,w}  | (512,) (512,) (512,) (512,) (512,16,3,3)        |\n",
      "| res3.3.conv3.*    | res3_3_branch2c_{bn_b,bn_rm,bn_riv,bn_s,w}  | (512,) (512,) (512,) (512,) (512,512,1,1)       |\n",
      "| res4.0.conv1.*    | res4_0_branch2a_{bn_b,bn_rm,bn_riv,bn_s,w}  | (1024,) (1024,) (1024,) (1024,) (1024,512,1,1)  |\n",
      "| res4.0.conv2.*    | res4_0_branch2b_{bn_b,bn_rm,bn_riv,bn_s,w}  | (1024,) (1024,) (1024,) (1024,) (1024,32,3,3)   |\n",
      "| res4.0.conv3.*    | res4_0_branch2c_{bn_b,bn_rm,bn_riv,bn_s,w}  | (1024,) (1024,) (1024,) (1024,) (1024,1024,1,1) |\n",
      "| res4.0.shortcut.* | res4_0_branch1_{bn_b,bn_rm,bn_riv,bn_s,w}   | (1024,) (1024,) (1024,) (1024,) (1024,512,1,1)  |\n",
      "| res4.1.conv1.*    | res4_1_branch2a_{bn_b,bn_rm,bn_riv,bn_s,w}  | (1024,) (1024,) (1024,) (1024,) (1024,1024,1,1) |\n",
      "| res4.1.conv2.*    | res4_1_branch2b_{bn_b,bn_rm,bn_riv,bn_s,w}  | (1024,) (1024,) (1024,) (1024,) (1024,32,3,3)   |\n",
      "| res4.1.conv3.*    | res4_1_branch2c_{bn_b,bn_rm,bn_riv,bn_s,w}  | (1024,) (1024,) (1024,) (1024,) (1024,1024,1,1) |\n",
      "| res4.10.conv1.*   | res4_10_branch2a_{bn_b,bn_rm,bn_riv,bn_s,w} | (1024,) (1024,) (1024,) (1024,) (1024,1024,1,1) |\n",
      "| res4.10.conv2.*   | res4_10_branch2b_{bn_b,bn_rm,bn_riv,bn_s,w} | (1024,) (1024,) (1024,) (1024,) (1024,32,3,3)   |\n",
      "| res4.10.conv3.*   | res4_10_branch2c_{bn_b,bn_rm,bn_riv,bn_s,w} | (1024,) (1024,) (1024,) (1024,) (1024,1024,1,1) |\n",
      "| res4.11.conv1.*   | res4_11_branch2a_{bn_b,bn_rm,bn_riv,bn_s,w} | (1024,) (1024,) (1024,) (1024,) (1024,1024,1,1) |\n",
      "| res4.11.conv2.*   | res4_11_branch2b_{bn_b,bn_rm,bn_riv,bn_s,w} | (1024,) (1024,) (1024,) (1024,) (1024,32,3,3)   |\n",
      "| res4.11.conv3.*   | res4_11_branch2c_{bn_b,bn_rm,bn_riv,bn_s,w} | (1024,) (1024,) (1024,) (1024,) (1024,1024,1,1) |\n",
      "| res4.12.conv1.*   | res4_12_branch2a_{bn_b,bn_rm,bn_riv,bn_s,w} | (1024,) (1024,) (1024,) (1024,) (1024,1024,1,1) |\n",
      "| res4.12.conv2.*   | res4_12_branch2b_{bn_b,bn_rm,bn_riv,bn_s,w} | (1024,) (1024,) (1024,) (1024,) (1024,32,3,3)   |\n",
      "| res4.12.conv3.*   | res4_12_branch2c_{bn_b,bn_rm,bn_riv,bn_s,w} | (1024,) (1024,) (1024,) (1024,) (1024,1024,1,1) |\n",
      "| res4.13.conv1.*   | res4_13_branch2a_{bn_b,bn_rm,bn_riv,bn_s,w} | (1024,) (1024,) (1024,) (1024,) (1024,1024,1,1) |\n",
      "| res4.13.conv2.*   | res4_13_branch2b_{bn_b,bn_rm,bn_riv,bn_s,w} | (1024,) (1024,) (1024,) (1024,) (1024,32,3,3)   |\n",
      "| res4.13.conv3.*   | res4_13_branch2c_{bn_b,bn_rm,bn_riv,bn_s,w} | (1024,) (1024,) (1024,) (1024,) (1024,1024,1,1) |\n",
      "| res4.14.conv1.*   | res4_14_branch2a_{bn_b,bn_rm,bn_riv,bn_s,w} | (1024,) (1024,) (1024,) (1024,) (1024,1024,1,1) |\n",
      "| res4.14.conv2.*   | res4_14_branch2b_{bn_b,bn_rm,bn_riv,bn_s,w} | (1024,) (1024,) (1024,) (1024,) (1024,32,3,3)   |\n",
      "| res4.14.conv3.*   | res4_14_branch2c_{bn_b,bn_rm,bn_riv,bn_s,w} | (1024,) (1024,) (1024,) (1024,) (1024,1024,1,1) |\n",
      "| res4.15.conv1.*   | res4_15_branch2a_{bn_b,bn_rm,bn_riv,bn_s,w} | (1024,) (1024,) (1024,) (1024,) (1024,1024,1,1) |\n",
      "| res4.15.conv2.*   | res4_15_branch2b_{bn_b,bn_rm,bn_riv,bn_s,w} | (1024,) (1024,) (1024,) (1024,) (1024,32,3,3)   |\n",
      "| res4.15.conv3.*   | res4_15_branch2c_{bn_b,bn_rm,bn_riv,bn_s,w} | (1024,) (1024,) (1024,) (1024,) (1024,1024,1,1) |\n",
      "| res4.16.conv1.*   | res4_16_branch2a_{bn_b,bn_rm,bn_riv,bn_s,w} | (1024,) (1024,) (1024,) (1024,) (1024,1024,1,1) |\n",
      "| res4.16.conv2.*   | res4_16_branch2b_{bn_b,bn_rm,bn_riv,bn_s,w} | (1024,) (1024,) (1024,) (1024,) (1024,32,3,3)   |\n",
      "| res4.16.conv3.*   | res4_16_branch2c_{bn_b,bn_rm,bn_riv,bn_s,w} | (1024,) (1024,) (1024,) (1024,) (1024,1024,1,1) |\n",
      "| res4.17.conv1.*   | res4_17_branch2a_{bn_b,bn_rm,bn_riv,bn_s,w} | (1024,) (1024,) (1024,) (1024,) (1024,1024,1,1) |\n",
      "| res4.17.conv2.*   | res4_17_branch2b_{bn_b,bn_rm,bn_riv,bn_s,w} | (1024,) (1024,) (1024,) (1024,) (1024,32,3,3)   |\n",
      "| res4.17.conv3.*   | res4_17_branch2c_{bn_b,bn_rm,bn_riv,bn_s,w} | (1024,) (1024,) (1024,) (1024,) (1024,1024,1,1) |\n",
      "| res4.18.conv1.*   | res4_18_branch2a_{bn_b,bn_rm,bn_riv,bn_s,w} | (1024,) (1024,) (1024,) (1024,) (1024,1024,1,1) |\n",
      "| res4.18.conv2.*   | res4_18_branch2b_{bn_b,bn_rm,bn_riv,bn_s,w} | (1024,) (1024,) (1024,) (1024,) (1024,32,3,3)   |\n",
      "| res4.18.conv3.*   | res4_18_branch2c_{bn_b,bn_rm,bn_riv,bn_s,w} | (1024,) (1024,) (1024,) (1024,) (1024,1024,1,1) |\n",
      "| res4.19.conv1.*   | res4_19_branch2a_{bn_b,bn_rm,bn_riv,bn_s,w} | (1024,) (1024,) (1024,) (1024,) (1024,1024,1,1) |\n",
      "| res4.19.conv2.*   | res4_19_branch2b_{bn_b,bn_rm,bn_riv,bn_s,w} | (1024,) (1024,) (1024,) (1024,) (1024,32,3,3)   |\n",
      "| res4.19.conv3.*   | res4_19_branch2c_{bn_b,bn_rm,bn_riv,bn_s,w} | (1024,) (1024,) (1024,) (1024,) (1024,1024,1,1) |\n",
      "| res4.2.conv1.*    | res4_2_branch2a_{bn_b,bn_rm,bn_riv,bn_s,w}  | (1024,) (1024,) (1024,) (1024,) (1024,1024,1,1) |\n",
      "| res4.2.conv2.*    | res4_2_branch2b_{bn_b,bn_rm,bn_riv,bn_s,w}  | (1024,) (1024,) (1024,) (1024,) (1024,32,3,3)   |\n",
      "| res4.2.conv3.*    | res4_2_branch2c_{bn_b,bn_rm,bn_riv,bn_s,w}  | (1024,) (1024,) (1024,) (1024,) (1024,1024,1,1) |\n",
      "| res4.20.conv1.*   | res4_20_branch2a_{bn_b,bn_rm,bn_riv,bn_s,w} | (1024,) (1024,) (1024,) (1024,) (1024,1024,1,1) |\n",
      "| res4.20.conv2.*   | res4_20_branch2b_{bn_b,bn_rm,bn_riv,bn_s,w} | (1024,) (1024,) (1024,) (1024,) (1024,32,3,3)   |\n",
      "| res4.20.conv3.*   | res4_20_branch2c_{bn_b,bn_rm,bn_riv,bn_s,w} | (1024,) (1024,) (1024,) (1024,) (1024,1024,1,1) |\n",
      "| res4.21.conv1.*   | res4_21_branch2a_{bn_b,bn_rm,bn_riv,bn_s,w} | (1024,) (1024,) (1024,) (1024,) (1024,1024,1,1) |\n",
      "| res4.21.conv2.*   | res4_21_branch2b_{bn_b,bn_rm,bn_riv,bn_s,w} | (1024,) (1024,) (1024,) (1024,) (1024,32,3,3)   |\n",
      "| res4.21.conv3.*   | res4_21_branch2c_{bn_b,bn_rm,bn_riv,bn_s,w} | (1024,) (1024,) (1024,) (1024,) (1024,1024,1,1) |\n",
      "| res4.22.conv1.*   | res4_22_branch2a_{bn_b,bn_rm,bn_riv,bn_s,w} | (1024,) (1024,) (1024,) (1024,) (1024,1024,1,1) |\n",
      "| res4.22.conv2.*   | res4_22_branch2b_{bn_b,bn_rm,bn_riv,bn_s,w} | (1024,) (1024,) (1024,) (1024,) (1024,32,3,3)   |\n",
      "| res4.22.conv3.*   | res4_22_branch2c_{bn_b,bn_rm,bn_riv,bn_s,w} | (1024,) (1024,) (1024,) (1024,) (1024,1024,1,1) |\n",
      "| res4.3.conv1.*    | res4_3_branch2a_{bn_b,bn_rm,bn_riv,bn_s,w}  | (1024,) (1024,) (1024,) (1024,) (1024,1024,1,1) |\n",
      "| res4.3.conv2.*    | res4_3_branch2b_{bn_b,bn_rm,bn_riv,bn_s,w}  | (1024,) (1024,) (1024,) (1024,) (1024,32,3,3)   |\n",
      "| res4.3.conv3.*    | res4_3_branch2c_{bn_b,bn_rm,bn_riv,bn_s,w}  | (1024,) (1024,) (1024,) (1024,) (1024,1024,1,1) |\n",
      "| res4.4.conv1.*    | res4_4_branch2a_{bn_b,bn_rm,bn_riv,bn_s,w}  | (1024,) (1024,) (1024,) (1024,) (1024,1024,1,1) |\n",
      "| res4.4.conv2.*    | res4_4_branch2b_{bn_b,bn_rm,bn_riv,bn_s,w}  | (1024,) (1024,) (1024,) (1024,) (1024,32,3,3)   |\n",
      "| res4.4.conv3.*    | res4_4_branch2c_{bn_b,bn_rm,bn_riv,bn_s,w}  | (1024,) (1024,) (1024,) (1024,) (1024,1024,1,1) |\n",
      "| res4.5.conv1.*    | res4_5_branch2a_{bn_b,bn_rm,bn_riv,bn_s,w}  | (1024,) (1024,) (1024,) (1024,) (1024,1024,1,1) |\n",
      "| res4.5.conv2.*    | res4_5_branch2b_{bn_b,bn_rm,bn_riv,bn_s,w}  | (1024,) (1024,) (1024,) (1024,) (1024,32,3,3)   |\n",
      "| res4.5.conv3.*    | res4_5_branch2c_{bn_b,bn_rm,bn_riv,bn_s,w}  | (1024,) (1024,) (1024,) (1024,) (1024,1024,1,1) |\n",
      "| res4.6.conv1.*    | res4_6_branch2a_{bn_b,bn_rm,bn_riv,bn_s,w}  | (1024,) (1024,) (1024,) (1024,) (1024,1024,1,1) |\n",
      "| res4.6.conv2.*    | res4_6_branch2b_{bn_b,bn_rm,bn_riv,bn_s,w}  | (1024,) (1024,) (1024,) (1024,) (1024,32,3,3)   |\n",
      "| res4.6.conv3.*    | res4_6_branch2c_{bn_b,bn_rm,bn_riv,bn_s,w}  | (1024,) (1024,) (1024,) (1024,) (1024,1024,1,1) |\n",
      "| res4.7.conv1.*    | res4_7_branch2a_{bn_b,bn_rm,bn_riv,bn_s,w}  | (1024,) (1024,) (1024,) (1024,) (1024,1024,1,1) |\n",
      "| res4.7.conv2.*    | res4_7_branch2b_{bn_b,bn_rm,bn_riv,bn_s,w}  | (1024,) (1024,) (1024,) (1024,) (1024,32,3,3)   |\n",
      "| res4.7.conv3.*    | res4_7_branch2c_{bn_b,bn_rm,bn_riv,bn_s,w}  | (1024,) (1024,) (1024,) (1024,) (1024,1024,1,1) |\n",
      "| res4.8.conv1.*    | res4_8_branch2a_{bn_b,bn_rm,bn_riv,bn_s,w}  | (1024,) (1024,) (1024,) (1024,) (1024,1024,1,1) |\n",
      "| res4.8.conv2.*    | res4_8_branch2b_{bn_b,bn_rm,bn_riv,bn_s,w}  | (1024,) (1024,) (1024,) (1024,) (1024,32,3,3)   |\n",
      "| res4.8.conv3.*    | res4_8_branch2c_{bn_b,bn_rm,bn_riv,bn_s,w}  | (1024,) (1024,) (1024,) (1024,) (1024,1024,1,1) |\n",
      "| res4.9.conv1.*    | res4_9_branch2a_{bn_b,bn_rm,bn_riv,bn_s,w}  | (1024,) (1024,) (1024,) (1024,) (1024,1024,1,1) |\n",
      "| res4.9.conv2.*    | res4_9_branch2b_{bn_b,bn_rm,bn_riv,bn_s,w}  | (1024,) (1024,) (1024,) (1024,) (1024,32,3,3)   |\n",
      "| res4.9.conv3.*    | res4_9_branch2c_{bn_b,bn_rm,bn_riv,bn_s,w}  | (1024,) (1024,) (1024,) (1024,) (1024,1024,1,1) |\n",
      "| res5.0.conv1.*    | res5_0_branch2a_{bn_b,bn_rm,bn_riv,bn_s,w}  | (2048,) (2048,) (2048,) (2048,) (2048,1024,1,1) |\n",
      "| res5.0.conv2.*    | res5_0_branch2b_{bn_b,bn_rm,bn_riv,bn_s,w}  | (2048,) (2048,) (2048,) (2048,) (2048,64,3,3)   |\n",
      "| res5.0.conv3.*    | res5_0_branch2c_{bn_b,bn_rm,bn_riv,bn_s,w}  | (2048,) (2048,) (2048,) (2048,) (2048,2048,1,1) |\n",
      "| res5.0.shortcut.* | res5_0_branch1_{bn_b,bn_rm,bn_riv,bn_s,w}   | (2048,) (2048,) (2048,) (2048,) (2048,1024,1,1) |\n",
      "| res5.1.conv1.*    | res5_1_branch2a_{bn_b,bn_rm,bn_riv,bn_s,w}  | (2048,) (2048,) (2048,) (2048,) (2048,2048,1,1) |\n",
      "| res5.1.conv2.*    | res5_1_branch2b_{bn_b,bn_rm,bn_riv,bn_s,w}  | (2048,) (2048,) (2048,) (2048,) (2048,64,3,3)   |\n",
      "| res5.1.conv3.*    | res5_1_branch2c_{bn_b,bn_rm,bn_riv,bn_s,w}  | (2048,) (2048,) (2048,) (2048,) (2048,2048,1,1) |\n",
      "| res5.2.conv1.*    | res5_2_branch2a_{bn_b,bn_rm,bn_riv,bn_s,w}  | (2048,) (2048,) (2048,) (2048,) (2048,2048,1,1) |\n",
      "| res5.2.conv2.*    | res5_2_branch2b_{bn_b,bn_rm,bn_riv,bn_s,w}  | (2048,) (2048,) (2048,) (2048,) (2048,64,3,3)   |\n",
      "| res5.2.conv3.*    | res5_2_branch2c_{bn_b,bn_rm,bn_riv,bn_s,w}  | (2048,) (2048,) (2048,) (2048,) (2048,2048,1,1) |\n",
      "| stem.conv1.norm.* | res_conv1_bn_{b,rm,riv,s}                   | (64,) (64,) (64,) (64,)                         |\n",
      "| stem.conv1.weight | conv1_w                                     | (64, 3, 7, 7)                                   |\n"
     ]
    },
    {
     "name": "stderr",
     "output_type": "stream",
     "text": [
      "Some model parameters or buffers are not found in the checkpoint:\n",
      "\u001b[34mbackbone.fpn_lateral2.{bias, weight}\u001b[0m\n",
      "\u001b[34mbackbone.fpn_lateral3.{bias, weight}\u001b[0m\n",
      "\u001b[34mbackbone.fpn_lateral4.{bias, weight}\u001b[0m\n",
      "\u001b[34mbackbone.fpn_lateral5.{bias, weight}\u001b[0m\n",
      "\u001b[34mbackbone.fpn_output2.{bias, weight}\u001b[0m\n",
      "\u001b[34mbackbone.fpn_output3.{bias, weight}\u001b[0m\n",
      "\u001b[34mbackbone.fpn_output4.{bias, weight}\u001b[0m\n",
      "\u001b[34mbackbone.fpn_output5.{bias, weight}\u001b[0m\n",
      "\u001b[34mproposal_generator.rpn_head.anchor_deltas.{bias, weight}\u001b[0m\n",
      "\u001b[34mproposal_generator.rpn_head.conv.{bias, weight}\u001b[0m\n",
      "\u001b[34mproposal_generator.rpn_head.objectness_logits.{bias, weight}\u001b[0m\n",
      "\u001b[34mroi_heads.box_head.fc1.{bias, weight}\u001b[0m\n",
      "\u001b[34mroi_heads.box_head.fc2.{bias, weight}\u001b[0m\n",
      "\u001b[34mroi_heads.box_predictor.bbox_pred.{bias, weight}\u001b[0m\n",
      "\u001b[34mroi_heads.box_predictor.cls_score.{bias, weight}\u001b[0m\n",
      "\u001b[34mroi_heads.mask_head.deconv.{bias, weight}\u001b[0m\n",
      "\u001b[34mroi_heads.mask_head.mask_fcn1.{bias, weight}\u001b[0m\n",
      "\u001b[34mroi_heads.mask_head.mask_fcn2.{bias, weight}\u001b[0m\n",
      "\u001b[34mroi_heads.mask_head.mask_fcn3.{bias, weight}\u001b[0m\n",
      "\u001b[34mroi_heads.mask_head.mask_fcn4.{bias, weight}\u001b[0m\n",
      "\u001b[34mroi_heads.mask_head.predictor.{bias, weight}\u001b[0m\n",
      "The checkpoint state_dict contains keys that are not used by the model:\n",
      "  \u001b[35mlinear.{bias, weight}\u001b[0m\n"
     ]
    },
    {
     "ename": "KeyboardInterrupt",
     "evalue": "",
     "output_type": "error",
     "traceback": [
      "\u001b[0;31m---------------------------------------------------------------------------\u001b[0m",
      "\u001b[0;31mKeyboardInterrupt\u001b[0m                         Traceback (most recent call last)",
      "Cell \u001b[0;32mIn[3], line 39\u001b[0m\n\u001b[1;32m     37\u001b[0m \u001b[39mfor\u001b[39;00m d \u001b[39min\u001b[39;00m image_files:\n\u001b[1;32m     38\u001b[0m     im_path \u001b[39m=\u001b[39m os\u001b[39m.\u001b[39mpath\u001b[39m.\u001b[39mjoin(test_folder_path, d)\n\u001b[0;32m---> 39\u001b[0m     im \u001b[39m=\u001b[39m cv2\u001b[39m.\u001b[39mimread(im_path)\n\u001b[1;32m     40\u001b[0m     outputs \u001b[39m=\u001b[39m predictor(im)\n\u001b[1;32m     41\u001b[0m     masks \u001b[39m=\u001b[39m outputs[\u001b[39m'\u001b[39m\u001b[39minstances\u001b[39m\u001b[39m'\u001b[39m]\u001b[39m.\u001b[39mpred_masks\n",
      "\u001b[0;31mKeyboardInterrupt\u001b[0m: "
     ]
    }
   ],
   "source": [
    "from detectron2.utils.visualizer import ColorMode\n",
    "from itertools import compress\n",
    "from PIL import Image  \n",
    "from skimage import io, color, morphology, segmentation\n",
    "from detectron2.modeling import build_model\n",
    "from detectron2.checkpoint import DetectionCheckpointer\n",
    "\n",
    "cfg = get_cfg()\n",
    "cfg.merge_from_file(model_zoo.get_config_file(\"COCO-InstanceSegmentation/mask_rcnn_X_101_32x8d_FPN_3x.yaml\"))\n",
    "cfg.MODEL.ROI_HEADS.SCORE_THRESH_TEST = 0.7   # set a custom testing threshold\n",
    "cfg.MODEL.WEIGHTS = os.path.join(cfg.OUTPUT_DIR, \"model_final.pth\")  # path to the trained model \n",
    "\n",
    "#DetectionCheckpointer(model).load('/home/pcl1225/code/farmponds/output/model_999.pth') \n",
    "predictor = DefaultPredictor(cfg)\n",
    "pond_metadata = MetadataCatalog.get(\"pond_train\")\n",
    "\n",
    "\n",
    "test_folder_path = '/home/pcl1225/code/farmponds/dataset/test_kadwanchi'\n",
    "output_folder = '/home/pcl1225/code/farmponds/dataset/mask_test'\n",
    "os.makedirs(output_folder, exist_ok=True)\n",
    "image_files = [file for file in os.listdir(test_folder_path) if file.lower().endswith(('.png'))]\n",
    "\n",
    "def cropper(org_image_path, mask_array, out_file_name):\n",
    "    num_instances = mask_array.shape[0]\n",
    "    mask_array = np.moveaxis(mask_array, 0, -1)\n",
    "    mask_array_instance = []\n",
    "    img = cv2.imread(str(org_image_path))\n",
    "    output = np.zeros_like(img)\n",
    "    for i in range(num_instances):\n",
    "        mask_array_instance.append(mask_array[:, :, i:(i+1)])\n",
    "        output = np.where(mask_array_instance[i] == True, 255, output)\n",
    "    im = Image.fromarray(output)\n",
    "    im.save(out_file_name)\n",
    "\n",
    "\n",
    "# Loop through each image file\n",
    "for d in image_files:\n",
    "    im_path = os.path.join(test_folder_path, d)\n",
    "    im = cv2.imread(im_path)\n",
    "    outputs = predictor(im)\n",
    "    masks = outputs['instances'].pred_masks\n",
    "    masks= masks.to('cpu').numpy()\n",
    "    #num, h, w= masks.shape\n",
    "    mask_path = os.path.join(output_folder, d)\n",
    "    cropper(im_path, masks, mask_path)\n",
    "    \n",
    "\n",
    "# Show three random samples\n",
    "for d in random.sample(image_files, 3):\n",
    "    im_path = os.path.join(test_folder_path, d)\n",
    "    print(im_path)\n",
    "    im = cv2.imread(im_path)\n",
    "    outputs = predictor(im)\n",
    "    v = Visualizer(im[:, :, ::-1],\n",
    "                   metadata=pond_metadata,\n",
    "                   scale=0.5,\n",
    "                   instance_mode=ColorMode.IMAGE_BW   \n",
    "    )\n",
    "    out = v.draw_instance_predictions(outputs[\"instances\"].to(\"cpu\"))\n",
    "    plt.imshow(out.get_image()[:, :, ::-1])\n",
    "    plt.show()\n",
    "\n"
   ]
  }
 ],
 "metadata": {
  "accelerator": "GPU",
  "colab": {
   "provenance": [
    {
     "file_id": "16jcaJoc6bCFAQ96jDe2HwtXj7BMD_-m5",
     "timestamp": 1688164861181
    }
   ],
   "toc_visible": true
  },
  "kernelspec": {
   "display_name": "d2",
   "language": "python",
   "name": "d2"
  },
  "language_info": {
   "codemirror_mode": {
    "name": "ipython",
    "version": 3
   },
   "file_extension": ".py",
   "mimetype": "text/x-python",
   "name": "python",
   "nbconvert_exporter": "python",
   "pygments_lexer": "ipython3",
   "version": "3.11.3"
  }
 },
 "nbformat": 4,
 "nbformat_minor": 0
}
